{
 "cells": [
  {
   "cell_type": "code",
   "execution_count": 16,
   "metadata": {},
   "outputs": [],
   "source": [
    "import os.path\n",
    "from googleapiclient.discovery import build\n",
    "from google.oauth2 import service_account\n",
    "from datetime import datetime\n",
    "\n",
    "\n",
    "SCOPES = ['https://www.googleapis.com/auth/spreadsheets']\n",
    "BASE_DIR = os.path.dirname(os.path.abspath(\"test.py\"))\n",
    "SERVICE_ACCOUNT_FILE = os.path.join(BASE_DIR, 'local-talent-364913-0febf38e0456.json')\n",
    "\n",
    "credentials = service_account.Credentials.from_service_account_file(\n",
    "        SERVICE_ACCOUNT_FILE, scopes=SCOPES)\n",
    "\n",
    "# The ID and range of a sample spreadsheet.\n",
    "SAMPLE_SPREADSHEET_ID = '1oYSVwlNr2NZSB6i2pNHyKN0aW34Y50jldQgEKHUJiVw'\n",
    "SAMPLE_RANGE_NAME = 'Причины'\n",
    "SAMPLE_RANGE_NAME_ID = \"Аккаунты\"\n",
    "\n",
    "service = build('sheets', 'v4', credentials=credentials)\n",
    "\n",
    "sheet = service.spreadsheets()"
   ]
  },
  {
   "cell_type": "code",
   "execution_count": 3,
   "metadata": {},
   "outputs": [],
   "source": [
    "accounts = sheet.values().get(spreadsheetId=SAMPLE_SPREADSHEET_ID, range=\"Аккаунты\").execute()[\"values\"][2:]"
   ]
  },
  {
   "cell_type": "code",
   "execution_count": 21,
   "metadata": {},
   "outputs": [],
   "source": [
    "accounts = sheet.values().get(spreadsheetId=SAMPLE_SPREADSHEET_ID, range=\"Аккаунты\").execute()[\"values\"][2:]\n",
    "reasons = sheet.values().get(spreadsheetId=SAMPLE_SPREADSHEET_ID, range=SAMPLE_RANGE_NAME).execute()[\"values\"][2:]\n",
    "json_dict = {}\n",
    "for i in reasons:\n",
    "    json_dict[i[3]] = i[4][1:]\n",
    "json_dict\n",
    "acc_id = \"537932720\"\n",
    "reason = \"Получи 55% скидку на любой новый курс\"\n",
    "for acc in accounts:\n",
    "    if acc_id == acc[1]:\n",
    "        name = acc[0]\n",
    "        break\n",
    "log = [[name, reason, json_dict[reason], str(datetime.today()).split(\".\")[0]]]\n",
    "\n",
    "logs = service.spreadsheets().values().batchUpdate(spreadsheetId=SAMPLE_SPREADSHEET_ID, body={\n",
    "    \"valueInputOption\": \"USER_ENTERED\",\n",
    "    \"data\": [\n",
    "        {\"range\": f\"Логи!A3:D100\",\n",
    "        \"majorDimension\": \"ROWS\",    \n",
    "        \"values\": log}\n",
    "    ]\n",
    "}).execute()"
   ]
  },
  {
   "cell_type": "code",
   "execution_count": 14,
   "metadata": {},
   "outputs": [
    {
     "data": {
      "text/plain": [
       "{'Получи 55% скидку на любой новый курс': '700',\n",
       " 'Получи бесплатный курс': '1000',\n",
       " 'Заработай на доп день коворкинга': '100',\n",
       " 'Заработай на доступ к курсу(без дз) и коворкингу другу на неделю': '300',\n",
       " 'Заработай на дополнительный месяц коворкинга': '1000',\n",
       " 'Заработай на участие в платных лекциях': '50',\n",
       " 'Заработай на личную консультацию с преподавателем (1 час)': '200',\n",
       " 'Заработай на шоппер Skillbox': '1000',\n",
       " 'Заработай на блокнот Skillbox': '600',\n",
       " 'Заработай на стикеры (наклейки) Skillbox': '200'}"
      ]
     },
     "execution_count": 14,
     "metadata": {},
     "output_type": "execute_result"
    }
   ],
   "source": [
    "reasons = sheet.values().get(spreadsheetId=SAMPLE_SPREADSHEET_ID, range=SAMPLE_RANGE_NAME).execute()[\"values\"][2:]\n",
    "json_dict = {}\n",
    "for i in reasons:\n",
    "    json_dict[i[3]] = i[4][1:]\n",
    "json_dict"
   ]
  },
  {
   "cell_type": "code",
   "execution_count": null,
   "metadata": {},
   "outputs": [],
   "source": [
    "results_2 = service.spreadsheets().values().batchUpdate(spreadsheetId=SAMPLE_SPREADSHEET_ID, body={\n",
    "    \"valueInputOption\": \"USER_ENTERED\",\n",
    "    \"data\": [\n",
    "        {\"range\": f\"Логи!A3:D100\",\n",
    "         \"majorDimension\": \"ROWS\",    \n",
    "         \"values\": l}\n",
    "    ]\n",
    "}).execute()"
   ]
  },
  {
   "cell_type": "code",
   "execution_count": 9,
   "metadata": {},
   "outputs": [
    {
     "data": {
      "text/plain": [
       "[['Предложил эксперта для мероприятия в школе и согласование',\n",
       "  '40',\n",
       "  '',\n",
       "  'Получи 55% скидку на любой новый курс',\n",
       "  '-700'],\n",
       " ['Разместил пост/сторис в соц.сети с работой или результатом и отметил аккаунт школы @skillbox_Moskow',\n",
       "  '5',\n",
       "  '',\n",
       "  'Получи бесплатный курс',\n",
       "  '-1000'],\n",
       " ['Участие в мероприятиях общих (просто участие желтая карточка)',\n",
       "  '20',\n",
       "  '',\n",
       "  'Заработай на доп день коворкинга',\n",
       "  '-100'],\n",
       " ['Участие в метаворкшопе или спецворкшопе (зеленая карточка)',\n",
       "  '20',\n",
       "  '',\n",
       "  'Заработай на доступ к курсу(без дз) и коворкингу другу на неделю',\n",
       "  '-300'],\n",
       " ['Участие в консультации (зеленая карточка)',\n",
       "  '20',\n",
       "  '',\n",
       "  'Заработай на дополнительный месяц коворкинга',\n",
       "  '-1000'],\n",
       " ['Пришел на онбординг',\n",
       "  '10',\n",
       "  '',\n",
       "  'Заработай на участие в платных лекциях',\n",
       "  '-50'],\n",
       " ['',\n",
       "  '',\n",
       "  '',\n",
       "  'Заработай на личную консультацию с преподавателем (1 час)',\n",
       "  '-200'],\n",
       " ['', '', '', 'Заработай на шоппер Skillbox', '-1000'],\n",
       " ['', '', '', 'Заработай на блокнот Skillbox', '-600'],\n",
       " ['', '', '', 'Заработай на стикеры (наклейки) Skillbox', '-200']]"
      ]
     },
     "execution_count": 9,
     "metadata": {},
     "output_type": "execute_result"
    }
   ],
   "source": [
    "reasons"
   ]
  },
  {
   "cell_type": "code",
   "execution_count": null,
   "metadata": {},
   "outputs": [],
   "source": []
  },
  {
   "cell_type": "code",
   "execution_count": null,
   "metadata": {},
   "outputs": [],
   "source": []
  }
 ],
 "metadata": {
  "kernelspec": {
   "display_name": "Python 3.10.4 64-bit",
   "language": "python",
   "name": "python3"
  },
  "language_info": {
   "codemirror_mode": {
    "name": "ipython",
    "version": 3
   },
   "file_extension": ".py",
   "mimetype": "text/x-python",
   "name": "python",
   "nbconvert_exporter": "python",
   "pygments_lexer": "ipython3",
   "version": "3.10.4"
  },
  "orig_nbformat": 4,
  "vscode": {
   "interpreter": {
    "hash": "3196968d684371006099b3d55edeef8ed90365227a30deaef86e5d4aa8519be0"
   }
  }
 },
 "nbformat": 4,
 "nbformat_minor": 2
}
