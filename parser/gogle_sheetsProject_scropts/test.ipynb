{
 "cells": [
  {
   "cell_type": "code",
   "execution_count": 180,
   "metadata": {},
   "outputs": [],
   "source": [
    "import os.path\n",
    "from googleapiclient.discovery import build\n",
    "from google.oauth2 import service_account\n",
    "import pandas as pd\n",
    "\n",
    "\n",
    "SCOPES = ['https://www.googleapis.com/auth/spreadsheets']\n",
    "BASE_DIR = os.path.dirname(os.path.abspath(\"scripts.py\"))\n",
    "SERVICE_ACCOUNT_FILE = os.path.join(BASE_DIR, 'local-talent-364913-0febf38e0456.json')\n",
    "\n",
    "credentials = service_account.Credentials.from_service_account_file(\n",
    "        SERVICE_ACCOUNT_FILE, scopes=SCOPES)\n",
    "\n",
    "# The ID and range of a sample spreadsheet.\n",
    "\n",
    "SAMPLE_SPREADSHEET_ID = '1oYSVwlNr2NZSB6i2pNHyKN0aW34Y50jldQgEKHUJiVw'\n",
    "SAMPLE_RANGE_NAME = 'Оценки'\n",
    "SAMPLE_RANGE_NAME_2 = 'Логи'\n",
    "\n",
    "\n",
    "service = build('sheets', 'v4', credentials=credentials)\n",
    "\n",
    "sheet = service.spreadsheets()\n",
    "result = sheet.values().get(spreadsheetId=SAMPLE_SPREADSHEET_ID, range=SAMPLE_RANGE_NAME).execute()[\"values\"][2:]\n",
    "reasons = sheet.values().get(spreadsheetId=SAMPLE_SPREADSHEET_ID, range=\"Причины\").execute()[\"values\"][2:]\n",
    "past_logs = sheet.values().get(spreadsheetId=SAMPLE_SPREADSHEET_ID, range=\"Логи\").execute()[\"values\"][2:]\n",
    "accounts_1 = sheet.values().get(spreadsheetId=SAMPLE_SPREADSHEET_ID, range=\"Аккаунты\").execute()[\"values\"][2:]\n",
    "accounts = [i[:4] for i in accounts_1]"
   ]
  },
  {
   "cell_type": "code",
   "execution_count": 181,
   "metadata": {},
   "outputs": [],
   "source": [
    "# Fill names on each row\n",
    "\n",
    "j = ''\n",
    "for i in result:\n",
    "    if i[0] == '':\n",
    "        i[0] = j\n",
    "    j = i [0]"
   ]
  },
  {
   "cell_type": "code",
   "execution_count": 182,
   "metadata": {},
   "outputs": [],
   "source": [
    "df = pd.DataFrame(result)\n",
    "df = df[df[1] != '']\n",
    "df[\"sum_of_pluses\"] = df[range(2,12)].T.apply(lambda x: x.str.count(\"\\+\")).sum()\n",
    "df.drop(range(2,12), axis=1, inplace=True)\n",
    "df.rename({0: 'student', 1: \"reason\"}, axis=1, inplace=True)\n"
   ]
  },
  {
   "cell_type": "code",
   "execution_count": 183,
   "metadata": {},
   "outputs": [],
   "source": [
    "reasons_df = pd.DataFrame(reasons).drop([2, 3, 4], axis=1)\n",
    "reasons_df.drop(reasons_df[reasons_df[1] == \"\"].index, inplace=True)"
   ]
  },
  {
   "cell_type": "code",
   "execution_count": 184,
   "metadata": {},
   "outputs": [],
   "source": [
    "reasons_df.rename(columns={0: \"reason\", 1: \"amount\"}, inplace=True)\n",
    "reasons_df.amount = reasons_df.amount.astype(int)"
   ]
  },
  {
   "cell_type": "code",
   "execution_count": 185,
   "metadata": {},
   "outputs": [],
   "source": [
    "df = pd.merge(df, reasons_df)"
   ]
  },
  {
   "cell_type": "code",
   "execution_count": 186,
   "metadata": {},
   "outputs": [],
   "source": [
    "df[\"to_add\"] = df.sum_of_pluses * df[\"amount\"].astype(int)"
   ]
  },
  {
   "cell_type": "code",
   "execution_count": 187,
   "metadata": {},
   "outputs": [],
   "source": [
    "logs_df = pd.DataFrame(columns=['student', 'reason', 'amount', \"date\"])"
   ]
  },
  {
   "cell_type": "code",
   "execution_count": 188,
   "metadata": {},
   "outputs": [
    {
     "name": "stderr",
     "output_type": "stream",
     "text": [
      "C:\\Users\\Administrator\\AppData\\Local\\Temp\\ipykernel_3396\\4031595071.py:4: FutureWarning: The frame.append method is deprecated and will be removed from pandas in a future version. Use pandas.concat instead.\n",
      "  logs_df = logs_df.append({\"student\": row[0], \"reason\": row[1], \"amount\": row[3], \"date\": str(datetime.today()).split(\".\")[0]}, ignore_index=True)\n",
      "C:\\Users\\Administrator\\AppData\\Local\\Temp\\ipykernel_3396\\4031595071.py:4: FutureWarning: The frame.append method is deprecated and will be removed from pandas in a future version. Use pandas.concat instead.\n",
      "  logs_df = logs_df.append({\"student\": row[0], \"reason\": row[1], \"amount\": row[3], \"date\": str(datetime.today()).split(\".\")[0]}, ignore_index=True)\n",
      "C:\\Users\\Administrator\\AppData\\Local\\Temp\\ipykernel_3396\\4031595071.py:4: FutureWarning: The frame.append method is deprecated and will be removed from pandas in a future version. Use pandas.concat instead.\n",
      "  logs_df = logs_df.append({\"student\": row[0], \"reason\": row[1], \"amount\": row[3], \"date\": str(datetime.today()).split(\".\")[0]}, ignore_index=True)\n",
      "C:\\Users\\Administrator\\AppData\\Local\\Temp\\ipykernel_3396\\4031595071.py:4: FutureWarning: The frame.append method is deprecated and will be removed from pandas in a future version. Use pandas.concat instead.\n",
      "  logs_df = logs_df.append({\"student\": row[0], \"reason\": row[1], \"amount\": row[3], \"date\": str(datetime.today()).split(\".\")[0]}, ignore_index=True)\n",
      "C:\\Users\\Administrator\\AppData\\Local\\Temp\\ipykernel_3396\\4031595071.py:4: FutureWarning: The frame.append method is deprecated and will be removed from pandas in a future version. Use pandas.concat instead.\n",
      "  logs_df = logs_df.append({\"student\": row[0], \"reason\": row[1], \"amount\": row[3], \"date\": str(datetime.today()).split(\".\")[0]}, ignore_index=True)\n",
      "C:\\Users\\Administrator\\AppData\\Local\\Temp\\ipykernel_3396\\4031595071.py:4: FutureWarning: The frame.append method is deprecated and will be removed from pandas in a future version. Use pandas.concat instead.\n",
      "  logs_df = logs_df.append({\"student\": row[0], \"reason\": row[1], \"amount\": row[3], \"date\": str(datetime.today()).split(\".\")[0]}, ignore_index=True)\n",
      "C:\\Users\\Administrator\\AppData\\Local\\Temp\\ipykernel_3396\\4031595071.py:4: FutureWarning: The frame.append method is deprecated and will be removed from pandas in a future version. Use pandas.concat instead.\n",
      "  logs_df = logs_df.append({\"student\": row[0], \"reason\": row[1], \"amount\": row[3], \"date\": str(datetime.today()).split(\".\")[0]}, ignore_index=True)\n",
      "C:\\Users\\Administrator\\AppData\\Local\\Temp\\ipykernel_3396\\4031595071.py:4: FutureWarning: The frame.append method is deprecated and will be removed from pandas in a future version. Use pandas.concat instead.\n",
      "  logs_df = logs_df.append({\"student\": row[0], \"reason\": row[1], \"amount\": row[3], \"date\": str(datetime.today()).split(\".\")[0]}, ignore_index=True)\n",
      "C:\\Users\\Administrator\\AppData\\Local\\Temp\\ipykernel_3396\\4031595071.py:4: FutureWarning: The frame.append method is deprecated and will be removed from pandas in a future version. Use pandas.concat instead.\n",
      "  logs_df = logs_df.append({\"student\": row[0], \"reason\": row[1], \"amount\": row[3], \"date\": str(datetime.today()).split(\".\")[0]}, ignore_index=True)\n",
      "C:\\Users\\Administrator\\AppData\\Local\\Temp\\ipykernel_3396\\4031595071.py:4: FutureWarning: The frame.append method is deprecated and will be removed from pandas in a future version. Use pandas.concat instead.\n",
      "  logs_df = logs_df.append({\"student\": row[0], \"reason\": row[1], \"amount\": row[3], \"date\": str(datetime.today()).split(\".\")[0]}, ignore_index=True)\n",
      "C:\\Users\\Administrator\\AppData\\Local\\Temp\\ipykernel_3396\\4031595071.py:4: FutureWarning: The frame.append method is deprecated and will be removed from pandas in a future version. Use pandas.concat instead.\n",
      "  logs_df = logs_df.append({\"student\": row[0], \"reason\": row[1], \"amount\": row[3], \"date\": str(datetime.today()).split(\".\")[0]}, ignore_index=True)\n",
      "C:\\Users\\Administrator\\AppData\\Local\\Temp\\ipykernel_3396\\4031595071.py:4: FutureWarning: The frame.append method is deprecated and will be removed from pandas in a future version. Use pandas.concat instead.\n",
      "  logs_df = logs_df.append({\"student\": row[0], \"reason\": row[1], \"amount\": row[3], \"date\": str(datetime.today()).split(\".\")[0]}, ignore_index=True)\n",
      "C:\\Users\\Administrator\\AppData\\Local\\Temp\\ipykernel_3396\\4031595071.py:4: FutureWarning: The frame.append method is deprecated and will be removed from pandas in a future version. Use pandas.concat instead.\n",
      "  logs_df = logs_df.append({\"student\": row[0], \"reason\": row[1], \"amount\": row[3], \"date\": str(datetime.today()).split(\".\")[0]}, ignore_index=True)\n"
     ]
    }
   ],
   "source": [
    "from datetime import datetime\n",
    "for row in df[df.sum_of_pluses != 0].values:\n",
    "    for i in range(row[2]): \n",
    "        logs_df = logs_df.append({\"student\": row[0], \"reason\": row[1], \"amount\": row[3], \"date\": str(datetime.today()).split(\".\")[0]}, ignore_index=True)\n",
    "logs_df.reset_index(drop=True, inplace=True)"
   ]
  },
  {
   "cell_type": "code",
   "execution_count": 189,
   "metadata": {},
   "outputs": [],
   "source": [
    "if past_logs != []:\n",
    "    past_logs_df = pd.DataFrame(past_logs)\n",
    "    past_logs_df.rename(columns={0: 'student', 1: 'reason', 2: 'amount', 3: 'date'}, inplace=True)\n",
    "    past_logs_df.amount = past_logs_df.amount.astype(int)\n",
    "else:\n",
    "    past_logs_df = pd.DataFrame(columns=['student', 'reason', 'amount', 'date'])"
   ]
  },
  {
   "cell_type": "code",
   "execution_count": 190,
   "metadata": {},
   "outputs": [],
   "source": [
    "groups_past_logs = past_logs_df.groupby([past_logs_df.student, past_logs_df.reason, logs_df.amount], as_index=False).date.count()"
   ]
  },
  {
   "cell_type": "code",
   "execution_count": 191,
   "metadata": {},
   "outputs": [],
   "source": [
    "groups_logs = logs_df.groupby([logs_df.student, logs_df.reason, logs_df.amount], as_index=False).date.count()"
   ]
  },
  {
   "cell_type": "code",
   "execution_count": 192,
   "metadata": {},
   "outputs": [],
   "source": [
    "groups_logs = groups_logs.merge(groups_past_logs, on=['student', 'reason'], how=\"outer\").fillna(0)"
   ]
  },
  {
   "cell_type": "code",
   "execution_count": 193,
   "metadata": {},
   "outputs": [],
   "source": [
    "groups_logs[\"diff_count\"] = groups_logs.date_x - groups_logs.date_y"
   ]
  },
  {
   "cell_type": "code",
   "execution_count": 194,
   "metadata": {},
   "outputs": [
    {
     "data": {
      "text/html": [
       "<div>\n",
       "<style scoped>\n",
       "    .dataframe tbody tr th:only-of-type {\n",
       "        vertical-align: middle;\n",
       "    }\n",
       "\n",
       "    .dataframe tbody tr th {\n",
       "        vertical-align: top;\n",
       "    }\n",
       "\n",
       "    .dataframe thead th {\n",
       "        text-align: right;\n",
       "    }\n",
       "</style>\n",
       "<table border=\"1\" class=\"dataframe\">\n",
       "  <thead>\n",
       "    <tr style=\"text-align: right;\">\n",
       "      <th></th>\n",
       "      <th>student</th>\n",
       "      <th>reason</th>\n",
       "      <th>amount</th>\n",
       "      <th>date_x</th>\n",
       "      <th>date_y</th>\n",
       "      <th>diff_count</th>\n",
       "    </tr>\n",
       "  </thead>\n",
       "  <tbody>\n",
       "    <tr>\n",
       "      <th>6</th>\n",
       "      <td>Лахтин Владимир</td>\n",
       "      <td>Участие в консультации (зеленая карточка)</td>\n",
       "      <td>20</td>\n",
       "      <td>1</td>\n",
       "      <td>0.0</td>\n",
       "      <td>1.0</td>\n",
       "    </tr>\n",
       "    <tr>\n",
       "      <th>7</th>\n",
       "      <td>Лахтин Владимир</td>\n",
       "      <td>Участие в мероприятиях общих (просто участие ж...</td>\n",
       "      <td>20</td>\n",
       "      <td>1</td>\n",
       "      <td>0.0</td>\n",
       "      <td>1.0</td>\n",
       "    </tr>\n",
       "    <tr>\n",
       "      <th>8</th>\n",
       "      <td>Лахтин Владимир</td>\n",
       "      <td>Участие в метаворкшопе или спецворкшопе (зелен...</td>\n",
       "      <td>20</td>\n",
       "      <td>1</td>\n",
       "      <td>0.0</td>\n",
       "      <td>1.0</td>\n",
       "    </tr>\n",
       "  </tbody>\n",
       "</table>\n",
       "</div>"
      ],
      "text/plain": [
       "           student                                             reason  amount  \\\n",
       "6  Лахтин Владимир          Участие в консультации (зеленая карточка)      20   \n",
       "7  Лахтин Владимир  Участие в мероприятиях общих (просто участие ж...      20   \n",
       "8  Лахтин Владимир  Участие в метаворкшопе или спецворкшопе (зелен...      20   \n",
       "\n",
       "   date_x  date_y  diff_count  \n",
       "6       1     0.0         1.0  \n",
       "7       1     0.0         1.0  \n",
       "8       1     0.0         1.0  "
      ]
     },
     "execution_count": 194,
     "metadata": {},
     "output_type": "execute_result"
    }
   ],
   "source": [
    "groups_logs[groups_logs.diff_count != 0]"
   ]
  },
  {
   "cell_type": "code",
   "execution_count": 195,
   "metadata": {},
   "outputs": [],
   "source": [
    "logs_to_add = pd.DataFrame(columns=['student', 'reason', 'amount', 'date'])\n",
    "for event in groups_logs[groups_logs.diff_count != 0].values:\n",
    "    df = pd.DataFrame([[event[0], event[1], event[2], str(datetime.today()).split(\".\")[0]]], columns=['student', 'reason', 'amount', 'date'])\n",
    "    for _ in range(int(event[-1])):\n",
    "        logs_to_add = pd.concat([logs_to_add, df], ignore_index=True)"
   ]
  },
  {
   "cell_type": "markdown",
   "metadata": {},
   "source": [
    "# Вносим данные"
   ]
  },
  {
   "cell_type": "code",
   "execution_count": 196,
   "metadata": {},
   "outputs": [],
   "source": [
    "l = []\n",
    "for i in logs_to_add.values:\n",
    "    l.append(list(i))"
   ]
  },
  {
   "cell_type": "code",
   "execution_count": 197,
   "metadata": {},
   "outputs": [],
   "source": [
    "start_row = len(past_logs) + 3"
   ]
  },
  {
   "cell_type": "code",
   "execution_count": 198,
   "metadata": {},
   "outputs": [],
   "source": [
    "results_2 = service.spreadsheets().values().batchUpdate(spreadsheetId=SAMPLE_SPREADSHEET_ID, body={\n",
    "    \"valueInputOption\": \"USER_ENTERED\",\n",
    "    \"data\": [\n",
    "        {\"range\": f\"{SAMPLE_RANGE_NAME_2}!A{start_row}:D100\",\n",
    "         \"majorDimension\": \"ROWS\",    \n",
    "         \"values\": l}\n",
    "    ]\n",
    "}).execute()"
   ]
  },
  {
   "cell_type": "code",
   "execution_count": null,
   "metadata": {},
   "outputs": [],
   "source": []
  }
 ],
 "metadata": {
  "kernelspec": {
   "display_name": "Python 3.10.4 64-bit",
   "language": "python",
   "name": "python3"
  },
  "language_info": {
   "codemirror_mode": {
    "name": "ipython",
    "version": 3
   },
   "file_extension": ".py",
   "mimetype": "text/x-python",
   "name": "python",
   "nbconvert_exporter": "python",
   "pygments_lexer": "ipython3",
   "version": "3.10.4"
  },
  "orig_nbformat": 4,
  "vscode": {
   "interpreter": {
    "hash": "3196968d684371006099b3d55edeef8ed90365227a30deaef86e5d4aa8519be0"
   }
  }
 },
 "nbformat": 4,
 "nbformat_minor": 2
}
